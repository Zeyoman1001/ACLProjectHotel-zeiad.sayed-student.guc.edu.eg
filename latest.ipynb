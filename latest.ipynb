{
 "cells": [
  {
   "cell_type": "markdown",
   "metadata": {
    "_cell_guid": "5bf0974e-56d6-480d-a9d6-987333d315af",
    "_uuid": "7aa14124-b4bd-482c-bbc0-0df76d1d53d1",
    "collapsed": false,
    "jupyter": {
     "outputs_hidden": false
    },
    "trusted": true
   },
   "source": [
    "# Load Datasets"
   ]
  },
  {
   "cell_type": "code",
   "execution_count": null,
   "metadata": {
    "_cell_guid": "a5525626-cab1-408d-9f13-b08306470820",
    "_uuid": "d70a70f1-1e13-4528-92d2-07ab92728b97",
    "collapsed": false,
    "execution": {
     "iopub.execute_input": "2025-10-24T19:00:28.159895Z",
     "iopub.status.busy": "2025-10-24T19:00:28.159611Z",
     "iopub.status.idle": "2025-10-24T19:00:28.166716Z",
     "shell.execute_reply": "2025-10-24T19:00:28.165661Z",
     "shell.execute_reply.started": "2025-10-24T19:00:28.159876Z"
    },
    "jupyter": {
     "outputs_hidden": false
    },
    "trusted": true
   },
   "outputs": [],
   "source": [
    "import numpy as np\n",
    "import pandas as pd\n",
    "from tensorflow import keras\n",
    "from tensorflow.keras import layers\n",
    "from keras import Sequential, Input\n",
    "from sklearn.model_selection import train_test_split\n",
    "from sklearn.preprocessing import StandardScaler\n",
    "from tensorflow.keras.metrics import Precision, Recall\n",
    "import matplotlib.pyplot as plt\n",
    "import seaborn as sns\n",
    "from sklearn.preprocessing import LabelEncoder, OneHotEncoder\n",
    "from tensorflow.keras.utils import to_categorical\n",
    "from tensorflow.keras.callbacks import EarlyStopping"
   ]
  },
  {
   "cell_type": "code",
   "execution_count": null,
   "metadata": {
    "_cell_guid": "80c48529-b398-4a9b-9e86-24442f30d8f3",
    "_uuid": "cad29ba8-a845-44ab-b7b7-df3f71fdfb30",
    "collapsed": false,
    "execution": {
     "iopub.execute_input": "2025-10-24T19:00:28.177934Z",
     "iopub.status.busy": "2025-10-24T19:00:28.177607Z",
     "iopub.status.idle": "2025-10-24T19:00:28.296309Z",
     "shell.execute_reply": "2025-10-24T19:00:28.295617Z",
     "shell.execute_reply.started": "2025-10-24T19:00:28.177914Z"
    },
    "jupyter": {
     "outputs_hidden": false
    },
    "trusted": true
   },
   "outputs": [],
   "source": [
    "import os\n",
    "\n",
    "def get_data_path(slug_name):\n",
    "    base1 = f\"/kaggle/input/{slug_name}\"\n",
    "    base2 = \"/kaggle/input\"\n",
    "    if os.path.exists(base1):\n",
    "        return base1\n",
    "    elif os.path.exists(base2):\n",
    "        return base2\n",
    "    else:\n",
    "        return \"./Data\"\n",
    "\n",
    "data_dir = get_data_path(\"international-hotel-booking-analytics\")\n",
    "\n",
    "users = pd.read_csv(f\"{data_dir}/users.csv\")\n",
    "hotels = pd.read_csv(f\"{data_dir}/hotels.csv\")\n",
    "reviews = pd.read_csv(f\"{data_dir}/reviews.csv\")"
   ]
  },
  {
   "cell_type": "markdown",
   "metadata": {
    "_cell_guid": "b5853945-1a67-4691-a346-49f474f00f45",
    "_uuid": "01284e15-15b1-40a8-9cd1-fb22aac4e717",
    "collapsed": false,
    "jupyter": {
     "outputs_hidden": false
    },
    "trusted": true
   },
   "source": [
    "# Data Cleaning"
   ]
  },
  {
   "cell_type": "code",
   "execution_count": null,
   "metadata": {
    "_cell_guid": "1afe8a73-d417-4388-89c3-e6f28913dad0",
    "_kg_hide-output": false,
    "_uuid": "a381733f-9115-426a-a1d8-b3df707284f8",
    "collapsed": false,
    "execution": {
     "iopub.execute_input": "2025-10-24T19:00:28.297513Z",
     "iopub.status.busy": "2025-10-24T19:00:28.297268Z",
     "iopub.status.idle": "2025-10-24T19:00:28.406739Z",
     "shell.execute_reply": "2025-10-24T19:00:28.405969Z",
     "shell.execute_reply.started": "2025-10-24T19:00:28.297476Z"
    },
    "jupyter": {
     "outputs_hidden": false
    },
    "trusted": true
   },
   "outputs": [],
   "source": [
    "def clean_data(hotels, reviews, users):\n",
    "    \"\"\"\n",
    "    Clean and merge datasets before model training.\n",
    "    Focuses only on data consistency and structure.\n",
    "    \"\"\"\n",
    "    \n",
    "    # --- Clean Users ---\n",
    "    users_clean = users.copy()\n",
    "    age_mapping = {'18-24': 0, '25-34': 1, '35-44': 2, '45-54': 3, '55+': 4}\n",
    "    users_clean['age_group'] = users_clean['age_group'].map(age_mapping)\n",
    "\n",
    "    # --- Clean Reviews ---\n",
    "    reviews_clean = reviews.copy()\n",
    "    reviews_clean['review_date'] = pd.to_datetime(reviews_clean['review_date'])\n",
    "\n",
    "    # --- Clean Hotels ---\n",
    "    hotels_clean = hotels.copy()\n",
    "\n",
    "    # --- Merge ---\n",
    "    df = pd.merge(reviews_clean, users_clean, on='user_id', how='inner')\n",
    "    df = pd.merge(df, hotels_clean, on='hotel_id', how='inner')\n",
    "\n",
    "    df.rename(columns={'country_x': 'hotel_country', 'country_y': 'user_country'}, inplace=True)\n",
    "\n",
    "    # --- Map countries to regions ---\n",
    "    country_to_group = {\n",
    "        'United States': 'North_America', 'Canada': 'North_America',\n",
    "        'Germany': 'Western_Europe', 'France': 'Western_Europe',\n",
    "        'United Kingdom': 'Western_Europe', 'Netherlands': 'Western_Europe',\n",
    "        'Spain': 'Western_Europe', 'Italy': 'Western_Europe',\n",
    "        'Russia': 'Eastern_Europe', 'China': 'East_Asia', 'Japan': 'East_Asia',\n",
    "        'South Korea': 'East_Asia', 'Thailand': 'Southeast_Asia', 'Singapore': 'Southeast_Asia',\n",
    "        'United Arab Emirates': 'Middle_East', 'Turkey': 'Middle_East',\n",
    "        'Egypt': 'Africa', 'Nigeria': 'Africa', 'South Africa': 'Africa',\n",
    "        'Australia': 'Oceania', 'New Zealand': 'Oceania',\n",
    "        'Brazil': 'South_America', 'Argentina': 'South_America',\n",
    "        'India': 'South_Asia', 'Mexico': 'North_America_Mexico'\n",
    "    }\n",
    "    df['country_group'] = df['user_country'].map(country_to_group).fillna('Other')\n",
    "\n",
    "    # --- Final cleanup ---\n",
    "    cols_to_drop = [\n",
    "        'user_id', 'hotel_id', 'review_id', 'join_date',\n",
    "        'lat', 'lon', 'user_country', 'hotel_name',\n",
    "        'review_text', 'review_date'\n",
    "    ]\n",
    "    df = df.drop(columns=[c for c in cols_to_drop if c in df.columns], errors='ignore')\n",
    "    \n",
    "\n",
    "    df = df.drop_duplicates()\n",
    "    numeric_cols = df.select_dtypes(include=['number']).columns\n",
    "    df[numeric_cols] = df[numeric_cols].fillna(df[numeric_cols].mean())\n",
    "\n",
    "    text_cols = df.select_dtypes(include=['object']).columns\n",
    "    df[text_cols] = df[text_cols].fillna('Unknown')\n",
    "\n",
    "    global DEFAULT_VALUES\n",
    "    DEFAULT_VALUES = {}\n",
    "\n",
    "    DEFAULT_VALUES |= df[numeric_cols].mean().to_dict()\n",
    "    DEFAULT_VALUES |= df[text_cols].mode().iloc[0].to_dict()\n",
    "\n",
    "    return df\n",
    "\n",
    "df = clean_data(hotels, reviews, users)"
   ]
  },
  {
   "cell_type": "code",
   "execution_count": null,
   "metadata": {
    "execution": {
     "iopub.execute_input": "2025-10-24T19:00:28.407477Z",
     "iopub.status.busy": "2025-10-24T19:00:28.407308Z",
     "iopub.status.idle": "2025-10-24T19:00:28.413519Z",
     "shell.execute_reply": "2025-10-24T19:00:28.412639Z",
     "shell.execute_reply.started": "2025-10-24T19:00:28.407464Z"
    },
    "trusted": true
   },
   "outputs": [],
   "source": [
    "def prepare_for_model_training(df):\n",
    "    \"\"\"\n",
    "    Prepare dataframe for model training using one-hot encoding.\n",
    "    Handles categorical encoding and feature removal.\n",
    "    \"\"\"\n",
    "    \n",
    "    # Copy to keep original clean\n",
    "    df_model = df.copy()\n",
    "\n",
    "    # Get all categorical columns after dropping all irrelevant columns for fitting and transformation\n",
    "    categorical_cols = df_model.select_dtypes(include=['object']).columns.tolist()\n",
    "    \n",
    "    # Remove 'country_group' if it exists\n",
    "    if 'country_group' in categorical_cols:\n",
    "        categorical_cols.remove('country_group')\n",
    "\n",
    "    # one-hot encode categorical columns using sklearn and store the encoder for later use\n",
    "    ohe = OneHotEncoder(drop='first', sparse_output=False, dtype=np.uint8, handle_unknown='ignore')\n",
    "    global ohe_fit\n",
    "    ohe_fit = ohe.fit(df[categorical_cols])\n",
    "    \n",
    "    # Transform and replace the categorical columns in df\n",
    "    ohe_features = ohe_fit.transform(df[categorical_cols])\n",
    "    ohe_feature_names = ohe_fit.get_feature_names_out(categorical_cols)\n",
    "    df_model = df.drop(columns=categorical_cols)\n",
    "    df_model[ohe_feature_names] = ohe_features\n",
    "\n",
    "    return df_model"
   ]
  },
  {
   "cell_type": "code",
   "execution_count": null,
   "metadata": {
    "_cell_guid": "2ad58d0e-040e-4db0-8bd4-14cf0df8b7bb",
    "_uuid": "6c21dd04-6245-470c-9e2e-d439c68fc8b2",
    "collapsed": false,
    "execution": {
     "iopub.execute_input": "2025-10-24T19:00:28.415034Z",
     "iopub.status.busy": "2025-10-24T19:00:28.414676Z",
     "iopub.status.idle": "2025-10-24T19:00:28.442493Z",
     "shell.execute_reply": "2025-10-24T19:00:28.441837Z",
     "shell.execute_reply.started": "2025-10-24T19:00:28.415017Z"
    },
    "jupyter": {
     "outputs_hidden": false
    },
    "trusted": true
   },
   "outputs": [],
   "source": [
    "print(\"Dataset shape:\", df.shape)\n",
    "print(\"\\nColumns:\", df.columns.tolist())\n",
    "print(\"\\nSample data:\")\n",
    "df.head()"
   ]
  },
  {
   "cell_type": "code",
   "execution_count": null,
   "metadata": {
    "_cell_guid": "b4993b91-0502-4373-884c-918637fd9fe4",
    "_uuid": "0dc40f6c-41ab-4a6b-ab92-29956c2c3bbf",
    "collapsed": false,
    "execution": {
     "iopub.execute_input": "2025-10-24T19:00:28.443212Z",
     "iopub.status.busy": "2025-10-24T19:00:28.443034Z",
     "iopub.status.idle": "2025-10-24T19:00:28.503053Z",
     "shell.execute_reply": "2025-10-24T19:00:28.502445Z",
     "shell.execute_reply.started": "2025-10-24T19:00:28.443198Z"
    },
    "jupyter": {
     "outputs_hidden": false
    },
    "trusted": true
   },
   "outputs": [],
   "source": [
    "print(\"\\nSummary statistics for numeric columns:\")\n",
    "display(df.describe())"
   ]
  },
  {
   "cell_type": "code",
   "execution_count": null,
   "metadata": {
    "_cell_guid": "885b1b23-3874-45c0-9052-be9ccfd0f51f",
    "_uuid": "1bb86aba-dc27-4bae-ac77-f0bf447ca54e",
    "execution": {
     "iopub.execute_input": "2025-10-24T19:00:28.503794Z",
     "iopub.status.busy": "2025-10-24T19:00:28.503628Z",
     "iopub.status.idle": "2025-10-24T19:00:28.523157Z",
     "shell.execute_reply": "2025-10-24T19:00:28.522235Z",
     "shell.execute_reply.started": "2025-10-24T19:00:28.503777Z"
    },
    "trusted": true
   },
   "outputs": [],
   "source": [
    "print(\"\\nValue counts for categorical columns:\")\n",
    "categorical_cols = ['age_group', 'traveller_type', 'user_gender', 'city', 'hotel_country', 'country_group']\n",
    "for col in categorical_cols:\n",
    "    print(f\"\\n{col} distribution:\")\n",
    "    print(df[col].value_counts())"
   ]
  },
  {
   "cell_type": "code",
   "execution_count": null,
   "metadata": {
    "execution": {
     "iopub.execute_input": "2025-10-24T19:00:28.524586Z",
     "iopub.status.busy": "2025-10-24T19:00:28.524233Z",
     "iopub.status.idle": "2025-10-24T19:00:28.545736Z",
     "shell.execute_reply": "2025-10-24T19:00:28.544983Z",
     "shell.execute_reply.started": "2025-10-24T19:00:28.524517Z"
    },
    "trusted": true
   },
   "outputs": [],
   "source": [
    "users"
   ]
  },
  {
   "cell_type": "code",
   "execution_count": null,
   "metadata": {
    "execution": {
     "iopub.execute_input": "2025-10-24T19:00:28.546718Z",
     "iopub.status.busy": "2025-10-24T19:00:28.546449Z",
     "iopub.status.idle": "2025-10-24T19:00:28.574463Z",
     "shell.execute_reply": "2025-10-24T19:00:28.573474Z",
     "shell.execute_reply.started": "2025-10-24T19:00:28.546697Z"
    },
    "trusted": true
   },
   "outputs": [],
   "source": [
    "hotels"
   ]
  },
  {
   "cell_type": "code",
   "execution_count": null,
   "metadata": {
    "execution": {
     "iopub.execute_input": "2025-10-24T19:00:28.575588Z",
     "iopub.status.busy": "2025-10-24T19:00:28.575275Z",
     "iopub.status.idle": "2025-10-24T19:00:28.599611Z",
     "shell.execute_reply": "2025-10-24T19:00:28.598535Z",
     "shell.execute_reply.started": "2025-10-24T19:00:28.575551Z"
    },
    "trusted": true
   },
   "outputs": [],
   "source": [
    "reviews"
   ]
  },
  {
   "cell_type": "code",
   "execution_count": null,
   "metadata": {
    "_cell_guid": "e36d7309-c094-4f0d-96d8-79248f6f6596",
    "_uuid": "b0da39d8-186d-4648-a55b-83adfc26e9d1",
    "collapsed": false,
    "execution": {
     "iopub.execute_input": "2025-10-24T19:00:28.602340Z",
     "iopub.status.busy": "2025-10-24T19:00:28.602145Z",
     "iopub.status.idle": "2025-10-24T19:00:28.749398Z",
     "shell.execute_reply": "2025-10-24T19:00:28.748369Z",
     "shell.execute_reply.started": "2025-10-24T19:00:28.602324Z"
    },
    "jupyter": {
     "outputs_hidden": false
    },
    "trusted": true
   },
   "outputs": [],
   "source": [
    "plt.figure(figsize=(10,6))\n",
    "ax = sns.countplot(data=df, x='age_group', palette='pastel')\n",
    "plt.title('Number of Reviews per Age Group')\n",
    "plt.xlabel('Age Group')\n",
    "plt.ylabel('Count')\n",
    "\n",
    "# Add counts above bars\n",
    "for p in ax.patches:\n",
    "    height = p.get_height()\n",
    "    ax.text(p.get_x() + p.get_width()/2., height + 20,  # adjust +20 for spacing\n",
    "            f'{int(height)}', ha=\"center\", fontsize=10)\n",
    "\n",
    "plt.show()"
   ]
  },
  {
   "cell_type": "code",
   "execution_count": null,
   "metadata": {
    "_cell_guid": "fbd61a9b-ec79-4b6b-8585-e9b5b137cb4e",
    "_uuid": "0621d34c-d8ee-4e27-8132-8553d37293f2",
    "collapsed": false,
    "execution": {
     "iopub.execute_input": "2025-10-24T19:00:28.750216Z",
     "iopub.status.busy": "2025-10-24T19:00:28.750070Z",
     "iopub.status.idle": "2025-10-24T19:00:28.891079Z",
     "shell.execute_reply": "2025-10-24T19:00:28.890166Z",
     "shell.execute_reply.started": "2025-10-24T19:00:28.750205Z"
    },
    "jupyter": {
     "outputs_hidden": false
    },
    "trusted": true
   },
   "outputs": [],
   "source": [
    "plt.figure(figsize=(10,6))\n",
    "ax = sns.countplot(data=df, x='traveller_type', palette='muted')\n",
    "plt.title('Number of Reviews per Traveller Type')\n",
    "plt.xlabel('Traveller Type')\n",
    "plt.ylabel('Count')\n",
    "for p in ax.patches:\n",
    "    ax.text(p.get_x() + p.get_width()/2, p.get_height() + 5, str(int(p.get_height())), \n",
    "            ha='center', fontsize=10)\n",
    "plt.show()"
   ]
  },
  {
   "cell_type": "code",
   "execution_count": null,
   "metadata": {
    "_cell_guid": "55de3b14-9cd6-441a-8777-dd484092637c",
    "_uuid": "af76260c-e1ea-440b-9d97-def3728e9699",
    "collapsed": false,
    "execution": {
     "iopub.execute_input": "2025-10-24T19:00:28.892100Z",
     "iopub.status.busy": "2025-10-24T19:00:28.891880Z",
     "iopub.status.idle": "2025-10-24T19:00:29.017105Z",
     "shell.execute_reply": "2025-10-24T19:00:29.016528Z",
     "shell.execute_reply.started": "2025-10-24T19:00:28.892079Z"
    },
    "jupyter": {
     "outputs_hidden": false
    },
    "trusted": true
   },
   "outputs": [],
   "source": [
    "plt.figure(figsize=(8,6))\n",
    "ax = sns.countplot(data=df, x='user_gender', palette='coolwarm')\n",
    "plt.title('Number of Reviews by Gender')\n",
    "plt.xlabel('Gender (0=Male,1=Female)')\n",
    "plt.ylabel('Count')\n",
    "for p in ax.patches:\n",
    "    ax.text(p.get_x() + p.get_width()/2, p.get_height() + 5, str(int(p.get_height())), \n",
    "            ha='center', fontsize=10)\n",
    "plt.show()"
   ]
  },
  {
   "cell_type": "code",
   "execution_count": null,
   "metadata": {
    "_cell_guid": "369795b8-1f2f-4299-9b47-107bc090080b",
    "_uuid": "a17cd710-1351-4645-bd4a-3c9d3d98e33d",
    "collapsed": false,
    "execution": {
     "iopub.execute_input": "2025-10-24T19:00:29.018154Z",
     "iopub.status.busy": "2025-10-24T19:00:29.017740Z",
     "iopub.status.idle": "2025-10-24T19:00:29.182610Z",
     "shell.execute_reply": "2025-10-24T19:00:29.181701Z",
     "shell.execute_reply.started": "2025-10-24T19:00:29.018135Z"
    },
    "jupyter": {
     "outputs_hidden": false
    },
    "trusted": true
   },
   "outputs": [],
   "source": [
    "top_cities = df.groupby('city')['score_overall'].mean().sort_values(ascending=False).head(10).reset_index()\n",
    "plt.figure(figsize=(12,6))\n",
    "ax = sns.barplot(data=top_cities, x='city', y='score_overall', palette='viridis')\n",
    "plt.xticks(rotation=55)\n",
    "plt.title('Top 10 Cities by Average Overall Score')\n",
    "plt.xlabel('City')\n",
    "plt.ylabel('Average Overall Score')\n",
    "for p in ax.patches:\n",
    "    ax.text(p.get_x() + p.get_width()/2, p.get_height() + 0.02, f'{p.get_height():.2f}', \n",
    "            ha='center', fontsize=9)\n",
    "plt.show()"
   ]
  },
  {
   "cell_type": "code",
   "execution_count": null,
   "metadata": {
    "_cell_guid": "776d6919-990c-4872-974c-c5400d0b0aae",
    "_uuid": "822c965b-d525-4d5e-b834-e91fd9dfba78",
    "collapsed": false,
    "execution": {
     "iopub.execute_input": "2025-10-24T19:00:29.184102Z",
     "iopub.status.busy": "2025-10-24T19:00:29.183839Z",
     "iopub.status.idle": "2025-10-24T19:00:29.354852Z",
     "shell.execute_reply": "2025-10-24T19:00:29.353919Z",
     "shell.execute_reply.started": "2025-10-24T19:00:29.184083Z"
    },
    "jupyter": {
     "outputs_hidden": false
    },
    "trusted": true
   },
   "outputs": [],
   "source": [
    "top_countries = df.groupby('hotel_country')['score_value_for_money'].mean().sort_values(ascending=False).head(10).reset_index()\n",
    "plt.figure(figsize=(12,6))\n",
    "ax = sns.barplot(data=top_countries, x='hotel_country', y='score_value_for_money', palette='magma')\n",
    "plt.xticks(rotation=55)\n",
    "plt.title('Top 10 Countries by Average Value-for-Money Score')\n",
    "plt.xlabel('Country')\n",
    "plt.ylabel('Average Value-for-Money Score')\n",
    "for p in ax.patches:\n",
    "    ax.text(p.get_x() + p.get_width()/2, p.get_height() + 0.02, f'{p.get_height():.2f}', \n",
    "            ha='center', fontsize=9)\n",
    "plt.show()"
   ]
  },
  {
   "cell_type": "markdown",
   "metadata": {},
   "source": [
    "# Histogram Analysis\n",
    "Histograms show the distribution of numerical variables, helping us understand the shape, skewness, center, and spread of data."
   ]
  },
  {
   "cell_type": "code",
   "execution_count": null,
   "metadata": {
    "execution": {
     "iopub.execute_input": "2025-10-24T19:00:29.355907Z",
     "iopub.status.busy": "2025-10-24T19:00:29.355647Z",
     "iopub.status.idle": "2025-10-24T19:00:29.517213Z",
     "shell.execute_reply": "2025-10-24T19:00:29.516446Z",
     "shell.execute_reply.started": "2025-10-24T19:00:29.355884Z"
    },
    "trusted": true
   },
   "outputs": [],
   "source": [
    "# Histogram of Overall Scores\n",
    "plt.figure(figsize=(10, 6))\n",
    "plt.hist(df['score_overall'], bins=30, color='skyblue', edgecolor='black', alpha=0.7)\n",
    "plt.title('Distribution of Overall Scores', fontsize=14, fontweight='bold')\n",
    "plt.xlabel('Overall Score')\n",
    "plt.ylabel('Frequency')\n",
    "plt.grid(True, alpha=0.3)\n",
    "plt.show()\n",
    "\n",
    "print(f\"Mean Overall Score: {df['score_overall'].mean():.2f}\")\n",
    "print(f\"Standard Deviation: {df['score_overall'].std():.2f}\")\n",
    "print(f\"Skewness: {df['score_overall'].skew():.2f}\")"
   ]
  },
  {
   "cell_type": "code",
   "execution_count": null,
   "metadata": {
    "execution": {
     "iopub.execute_input": "2025-10-24T19:00:29.518082Z",
     "iopub.status.busy": "2025-10-24T19:00:29.517911Z",
     "iopub.status.idle": "2025-10-24T19:00:29.674516Z",
     "shell.execute_reply": "2025-10-24T19:00:29.673862Z",
     "shell.execute_reply.started": "2025-10-24T19:00:29.518068Z"
    },
    "trusted": true
   },
   "outputs": [],
   "source": [
    "# Bar Plot: Average Overall Score by Age Group (using Seaborn)\n",
    "plt.figure(figsize=(10, 6))\n",
    "\n",
    "# Create age groups aggregation - using original columns before one-hot encoding\n",
    "age_score_data = df.groupby('age_group')['score_overall'].mean().reset_index()\n",
    "\n",
    "sns.barplot(data=age_score_data, x='age_group', y='score_overall', palette='viridis')\n",
    "plt.title('Average Overall Score by Age Group', fontweight='bold')\n",
    "plt.xlabel('Age Group')\n",
    "plt.ylabel('Average Overall Score')\n",
    "plt.xticks(rotation=45)\n",
    "\n",
    "# Add value labels on top of bars\n",
    "for i, v in enumerate(age_score_data['score_overall']):\n",
    "    plt.text(i, v + 0.02, f'{v:.2f}', ha='center', va='bottom', fontweight='bold')\n",
    "\n",
    "plt.tight_layout()\n",
    "plt.show()\n",
    "\n",
    "print(\"Age Group Score Analysis:\")\n",
    "for idx, row in age_score_data.iterrows():\n",
    "    print(f\"• {row['age_group']}: {row['score_overall']:.2f} average score\")"
   ]
  },
  {
   "cell_type": "code",
   "execution_count": null,
   "metadata": {
    "execution": {
     "iopub.execute_input": "2025-10-24T19:00:29.675306Z",
     "iopub.status.busy": "2025-10-24T19:00:29.675145Z",
     "iopub.status.idle": "2025-10-24T19:00:29.934344Z",
     "shell.execute_reply": "2025-10-24T19:00:29.933678Z",
     "shell.execute_reply.started": "2025-10-24T19:00:29.675293Z"
    },
    "trusted": true
   },
   "outputs": [],
   "source": [
    "# Bar Plot: Average Scores by Traveler Type (Comparison)\n",
    "fig, axes = plt.subplots(1, 2, figsize=(15, 6))\n",
    "\n",
    "# Left plot: Overall Score by Traveler Type  \n",
    "traveler_overall = df.groupby('traveller_type')['score_overall'].mean().reset_index()\n",
    "sns.barplot(data=traveler_overall, x='traveller_type', y='score_overall', \n",
    "           palette='Set2', ax=axes[0])\n",
    "axes[0].set_title('Average Overall Score by Traveler Type', fontweight='bold')\n",
    "axes[0].set_xlabel('Traveler Type')\n",
    "axes[0].set_ylabel('Average Overall Score')\n",
    "\n",
    "# Add value labels\n",
    "for i, v in enumerate(traveler_overall['score_overall']):\n",
    "    axes[0].text(i, v + 0.02, f'{v:.2f}', ha='center', va='bottom', fontweight='bold')\n",
    "\n",
    "# Right plot: Value for Money Score by Traveler Type\n",
    "traveler_value = df.groupby('traveller_type')['score_value_for_money'].mean().reset_index()\n",
    "sns.barplot(data=traveler_value, x='traveller_type', y='score_value_for_money', \n",
    "           palette='Set3', ax=axes[1])\n",
    "axes[1].set_title('Average Value for Money Score by Traveler Type', fontweight='bold')\n",
    "axes[1].set_xlabel('Traveler Type')\n",
    "axes[1].set_ylabel('Average Value for Money Score')\n",
    "\n",
    "# Add value labels\n",
    "for i, v in enumerate(traveler_value['score_value_for_money']):\n",
    "    axes[1].text(i, v + 0.02, f'{v:.2f}', ha='center', va='bottom', fontweight='bold')\n",
    "\n",
    "plt.tight_layout()\n",
    "plt.show()\n",
    "\n",
    "print(\"Traveler Type Comparison:\")\n",
    "print(\"Overall Scores:\")\n",
    "for idx, row in traveler_overall.iterrows():\n",
    "    print(f\"• {row['traveller_type']}: {row['score_overall']:.2f}\")\n",
    "print(\"\\nValue for Money Scores:\")  \n",
    "for idx, row in traveler_value.iterrows():\n",
    "    print(f\"• {row['traveller_type']}: {row['score_value_for_money']:.2f}\")"
   ]
  },
  {
   "cell_type": "code",
   "execution_count": null,
   "metadata": {
    "_cell_guid": "0c457f47-83ff-4960-a662-129ac5f001ab",
    "_uuid": "02272f8d-f60a-45b0-8eef-d6902b6ea457",
    "collapsed": false,
    "execution": {
     "iopub.execute_input": "2025-10-24T19:00:29.935267Z",
     "iopub.status.busy": "2025-10-24T19:00:29.935073Z",
     "iopub.status.idle": "2025-10-24T19:00:30.576642Z",
     "shell.execute_reply": "2025-10-24T19:00:30.575842Z",
     "shell.execute_reply.started": "2025-10-24T19:00:29.935251Z"
    },
    "jupyter": {
     "outputs_hidden": false
    },
    "trusted": true
   },
   "outputs": [],
   "source": [
    "grouped1_df = df.groupby(['traveller_type', 'city'])['score_overall'].mean().reset_index()\n",
    "n = 10\n",
    "top_n_cities = (\n",
    "    grouped1_df\n",
    "    .sort_values(['traveller_type', 'score_overall'], ascending=[True, False])\n",
    "    .groupby('traveller_type')\n",
    "    .head(n)\n",
    ")\n",
    "top_n_cities.head(20)\n",
    "plt.figure(figsize=(12, 8))\n",
    "traveller_types = top_n_cities['traveller_type'].unique()\n",
    "\n",
    "for i, ttype in enumerate(traveller_types):\n",
    "    plt.subplot(2, 2, i + 1)\n",
    "    subset = (\n",
    "        top_n_cities[top_n_cities['traveller_type'] == ttype]\n",
    "        .sort_values('score_overall', ascending=False)\n",
    "    )\n",
    "    \n",
    "    # Plot vertical bar chart for each traveller type\n",
    "    sns.barplot(data=subset, x='city', y='score_overall', color='skyblue')\n",
    "    \n",
    "    # Annotate each bar with its value\n",
    "    for index, value in enumerate(subset['score_overall']):\n",
    "        plt.text(index, value + 0.009, f'{value:.2f}', ha='center', fontsize=7)\n",
    "    \n",
    "    # Title and axis labels\n",
    "    plt.title(f'{ttype} Travelers - Top {n} Cities by Avg Overall Score', fontsize=10)\n",
    "    plt.xlabel('City')\n",
    "    plt.ylabel('Average Overall Score')\n",
    "    plt.ylim(subset['score_overall'].min() - 0.02, subset['score_overall'].max() + 0.02)\n",
    "    plt.xticks(rotation=55, ha='right')\n",
    "\n",
    "plt.tight_layout()\n",
    "plt.show()"
   ]
  },
  {
   "cell_type": "markdown",
   "metadata": {
    "_cell_guid": "116b1ab6-cecf-4edd-8261-5c618f2ad057",
    "_uuid": "e22db97f-3023-4667-afda-b2dd72245701",
    "collapsed": false,
    "jupyter": {
     "outputs_hidden": false
    },
    "trusted": true
   },
   "source": [
    "### Based on the average overall scores from traveler reviews, the best city for each traveler type is:\n",
    "\n",
    "- **Business Travelers:** **Dubai** (Average Score: 8.97)\n",
    "- **Couple Travelers:** **Amsterdam** (Average Score: 9.10)\n",
    "- **Family Travelers:** **Dubai** (Average Score: 9.21)\n",
    "- **Solo Travelers:** **Amsterdam** (Average Score: 9.11)\n",
    "\n",
    "These recommendations are based on the top-rated cities according to user reviews for each traveler category."
   ]
  },
  {
   "cell_type": "code",
   "execution_count": null,
   "metadata": {
    "_cell_guid": "ca8bbf64-f1a5-446d-a340-11a34a46a057",
    "_uuid": "0401f7f0-187b-4e2d-8105-2e6fadb1ec13",
    "collapsed": false,
    "execution": {
     "iopub.execute_input": "2025-10-24T19:00:30.577509Z",
     "iopub.status.busy": "2025-10-24T19:00:30.577298Z",
     "iopub.status.idle": "2025-10-24T19:00:31.193693Z",
     "shell.execute_reply": "2025-10-24T19:00:31.192831Z",
     "shell.execute_reply.started": "2025-10-24T19:00:30.577493Z"
    },
    "jupyter": {
     "outputs_hidden": false
    },
    "trusted": true
   },
   "outputs": [],
   "source": [
    "# Group by age_group and hotel_country to get mean value_for_money score\n",
    "x = 3\n",
    "grouped_age = (\n",
    "    df.groupby(['age_group', 'hotel_country'])['score_value_for_money']\n",
    "      .mean()\n",
    "      .reset_index()\n",
    "      .sort_values(['age_group', 'score_value_for_money'], ascending=[True, False])\n",
    "      .groupby('age_group')\n",
    "      .head(x)\n",
    "      .reset_index(drop=True)\n",
    ")\n",
    "\n",
    "# Plot top 3 countries per age group\n",
    "plt.figure(figsize=(12, 8))\n",
    "age_groups = grouped_age['age_group'].unique()\n",
    "\n",
    "ncols = 3\n",
    "nrows = (len(age_groups) + ncols - 1) // ncols\n",
    "\n",
    "for i, ag in enumerate(age_groups):\n",
    "    ax = plt.subplot(nrows, ncols, i + 1)\n",
    "    subset = grouped_age[grouped_age['age_group'] == ag].sort_values('score_value_for_money', ascending=False)\n",
    "    sns.barplot(data=subset, x='hotel_country', y='score_value_for_money', ax=ax, color='skyblue')\n",
    "    for idx, val in enumerate(subset['score_value_for_money']):\n",
    "        ax.text(idx, val + 0.005, f'{val:.2f}', ha='center', fontsize=9)\n",
    "    ax.set_title(f'Age Group: {ag}')\n",
    "    ax.set_xlabel('')\n",
    "    ax.set_ylabel('Avg Value for Money')\n",
    "    ax.set_ylim(subset['score_value_for_money'].min() - 0.05, subset['score_value_for_money'].max() + 0.05)\n",
    "    ax.tick_params(axis='x', rotation=45)\n",
    "\n",
    "plt.tight_layout(rect=[0, 0, 1, 0.96])\n",
    "plt.suptitle('Top 3 Countries by Avg Value-for-Money per Age Group', fontsize=14, y=1.02)\n",
    "plt.show()"
   ]
  },
  {
   "cell_type": "markdown",
   "metadata": {
    "_cell_guid": "265a2c28-9708-444f-9354-392d8d73bd8a",
    "_uuid": "5aeabc23-b79d-4ee7-9257-65e98c956fc7",
    "collapsed": false,
    "jupyter": {
     "outputs_hidden": false
    },
    "trusted": true
   },
   "source": [
    "### Top 3 Countries by Avg Value-for-Money per Traveler Age Group\n",
    "\n",
    "- **Age Group 18-24:**  \n",
    "  1. Egypt – 9.01  \n",
    "  2. Spain – 8.77 \n",
    "  3. Argentina – 8.69  \n",
    "\n",
    "- **Age Group 25-34:**  \n",
    "  1. Spain – 8.73  \n",
    "  2. South Korea – 8.63  \n",
    "  3. Netherlands – 8.54\n",
    "\n",
    "- **Age Group 35-44:**  \n",
    "  1. Singapore – 8.80  \n",
    "  2. Argentina – 8.70  \n",
    "  3. New Zealand – 8.64  \n",
    "\n",
    "- **Age Group 45-54:**  \n",
    "  1. Turkey – 8.64  \n",
    "  2. Singapore – 8.56  \n",
    "  3. China – 8.55  \n",
    "\n",
    "- **Age Group 55+:**  \n",
    "  1. New Zealand  – 8.69  \n",
    "  2. Canada – 8.62  \n",
    "  3. Japan – 8.52"
   ]
  },
  {
   "cell_type": "code",
   "execution_count": null,
   "metadata": {
    "execution": {
     "iopub.execute_input": "2025-10-24T19:00:31.194844Z",
     "iopub.status.busy": "2025-10-24T19:00:31.194575Z",
     "iopub.status.idle": "2025-10-24T19:00:31.483576Z",
     "shell.execute_reply": "2025-10-24T19:00:31.482649Z",
     "shell.execute_reply.started": "2025-10-24T19:00:31.194820Z"
    },
    "trusted": true
   },
   "outputs": [],
   "source": [
    "# Correlation Heatmap of Key Score Features\n",
    "plt.figure(figsize=(10, 8))\n",
    "\n",
    "# Select key score columns for correlation analysis\n",
    "score_columns = ['score_overall', 'score_cleanliness', 'score_comfort', \n",
    "                'score_facilities', 'score_location', 'score_staff', 'score_value_for_money']\n",
    "\n",
    "correlation_matrix = df[score_columns].corr()\n",
    "\n",
    "# Create correlation heatmap\n",
    "sns.heatmap(correlation_matrix, annot=True, cmap='RdYlBu_r', center=0,\n",
    "           square=True, fmt='.3f', cbar_kws={\"shrink\": .8})\n",
    "plt.title('Correlation Matrix of Hotel Score Dimensions', fontweight='bold')\n",
    "plt.tight_layout()\n",
    "plt.show()\n",
    "\n",
    "print(\"Correlation Heatmap Analysis:\")\n",
    "print(\"• Values range from -1 to 1\")\n",
    "print(\"• Red colors indicate strong positive correlation\")  \n",
    "print(\"• Blue colors indicate strong negative correlation\")\n",
    "print(\"• White/neutral colors indicate weak correlation\")"
   ]
  },
  {
   "cell_type": "markdown",
   "metadata": {
    "_cell_guid": "8c876e7b-150c-4322-9bc6-d1def812f797",
    "_uuid": "81571611-3fcf-4f6c-89f4-165dc9fc30e6",
    "collapsed": false,
    "jupyter": {
     "outputs_hidden": false
    },
    "trusted": true
   },
   "source": [
    "# Predictive Modeling Task\n",
    "\n",
    "## Model Development Process\n",
    "\n",
    "Before jumping into model training, we first performed **Exploratory Data Analysis (EDA)** to understand how different variables relate to each other.  \n",
    "This included generating **correlation heatmaps** to visualize the relationships between hotel review scores and identifying which features might contribute most to prediction accuracy.\n",
    "\n",
    "---\n",
    "\n",
    "### 🔹 Step 1 — Initial Experiments\n",
    "\n",
    "We started with a **simple baseline model** that included only a few basic hotel and user attributes.  \n",
    "This initial setup was mainly used to test the modeling pipeline and identify potential issues such as **underfitting** or poor feature representation.  \n",
    "\n",
    "As expected, the model achieved **inconsistent precision** between training and validation sets, suggesting that more contextual information was needed.\n",
    "\n",
    "---\n",
    "\n",
    "### 🔹 Step 2 — Feature Expansion\n",
    "\n",
    "Next, we **expanded the feature set** by including additional review-based scores and user demographic attributes (like *traveler type* and *age group*).  \n",
    "This step significantly improved the model’s **performance and stability**, as it allowed the neural network to capture more complex relationships across different traveler profiles and hotel characteristics.\n",
    "\n",
    "---\n",
    "\n",
    "### 🔹 Step 3 — Correlation and Feature Understanding\n",
    "\n",
    "To better understand how features interacted, we revisited the **correlation analysis results** and used them to refine our final input set.  \n",
    "The correlation study helped **eliminate redundant variables** and ensured that the model relied on **informative features** rather than overlapping ones.\n",
    "\n",
    "---\n",
    "\n",
    "### 🔹 Step 4 — Model Interpretability with SHAP\n",
    "\n",
    "After achieving a stable model, we used **SHAP (SHapley Additive Explanations)** to interpret the model’s predictions.  \n",
    "The SHAP analysis revealed the **relative importance** of each feature — for example, how much *score_location* or *star_rating* contributed to the predicted traveler group.  \n",
    "\n",
    "This interpretability step confirmed that the model’s decisions aligned with **logical and data-driven patterns** rather than random correlations.\n"
   ]
  },
  {
   "cell_type": "markdown",
   "metadata": {},
   "source": [
    "Data Pre-processing and Feature Engineering\n",
    "Understanding the step\n",
    "Need for the step\n",
    "Effect on the step on the data distribution, range, values, etc"
   ]
  },
  {
   "cell_type": "markdown",
   "metadata": {},
   "source": [
    "# Data Pre-processing and Feature Engineering\n",
    "\n",
    "## Data Pre-processing\n",
    "- **Purpose:** Clean and prepare raw data for modeling.  \n",
    "- **Steps:** Map `age_group` to numbers, fill missing values, drop irrelevant columns.  \n",
    "- **Effect:** Ensures consistent, complete, and usable data.\n",
    "\n",
    "## Feature Engineering\n",
    "- **Purpose:** Transform data for the model.  \n",
    "- **Steps:** One-hot encode `user_gender` and `traveller_type`, map countries to regions.  \n",
    "- **Effect:** Converts categorical text to numeric, adds useful features.\n",
    "\n",
    "## Example: Before & After\n",
    "\n",
    "**Before:**  \n",
    "| user_gender | traveller_type | age_group | cleanliness |\n",
    "|-------------|----------------|-----------|------------|\n",
    "| Male        | Solo           | 25-34     | 9          |\n",
    "| Female      | Family         | 35-44     | NaN        |\n",
    "\n",
    "**After:**  \n",
    "| age_group | cleanliness | user_gender_Male | traveller_type_Solo | traveller_type_Family |\n",
    "|-----------|------------|-----------------|-------------------|---------------------|\n",
    "| 1         | 9.0        | 1               | 1                 | 0                   |\n",
    "| 2         | 9.0        | 0               | 0                 | 1                   |\n"
   ]
  },
  {
   "cell_type": "code",
   "execution_count": null,
   "metadata": {
    "execution": {
     "iopub.execute_input": "2025-10-24T19:00:31.484567Z",
     "iopub.status.busy": "2025-10-24T19:00:31.484330Z",
     "iopub.status.idle": "2025-10-24T19:00:31.601128Z",
     "shell.execute_reply": "2025-10-24T19:00:31.599841Z",
     "shell.execute_reply.started": "2025-10-24T19:00:31.484547Z"
    },
    "trusted": true
   },
   "outputs": [],
   "source": [
    "# Data Preparation\n",
    "df_model = prepare_for_model_training(df)"
   ]
  },
  {
   "cell_type": "code",
   "execution_count": null,
   "metadata": {
    "execution": {
     "iopub.status.busy": "2025-10-24T19:00:31.601559Z",
     "iopub.status.idle": "2025-10-24T19:00:31.601777Z",
     "shell.execute_reply": "2025-10-24T19:00:31.601671Z",
     "shell.execute_reply.started": "2025-10-24T19:00:31.601663Z"
    },
    "trusted": true
   },
   "outputs": [],
   "source": [
    "df_model.columns.tolist()"
   ]
  },
  {
   "cell_type": "code",
   "execution_count": null,
   "metadata": {
    "execution": {
     "iopub.status.busy": "2025-10-24T19:00:31.603003Z",
     "iopub.status.idle": "2025-10-24T19:00:31.603214Z",
     "shell.execute_reply": "2025-10-24T19:00:31.603125Z",
     "shell.execute_reply.started": "2025-10-24T19:00:31.603115Z"
    },
    "trusted": true
   },
   "outputs": [],
   "source": [
    "features = [\n",
    "    'star_rating', 'cleanliness_base', 'comfort_base', 'facilities_base',\n",
    "    'location_base', 'staff_base', 'value_for_money_base',\n",
    "    'score_overall', 'score_cleanliness', 'score_comfort',\n",
    "    'score_facilities', 'score_location', 'score_staff',\n",
    "    'score_value_for_money',\n",
    "    # Encoded user attributes\n",
    "    'user_gender_Male',\n",
    "    'user_gender_Other',\n",
    "    'traveller_type_Couple',\n",
    "    'traveller_type_Family',\n",
    "    'traveller_type_Solo'\n",
    "]\n",
    "\n",
    "X = df_model[features]\n",
    "\n",
    "y = df_model['country_group']\n",
    "\n",
    "# Label encoding and train-test split\n",
    "label_encoder = LabelEncoder()\n",
    "y_encoded = label_encoder.fit_transform(y)\n",
    "y_categorical = to_categorical(y_encoded)\n",
    "\n",
    "X_train, X_test, y_train, y_test = train_test_split(\n",
    "    X, y_categorical, test_size=0.2, random_state=42)"
   ]
  },
  {
   "cell_type": "code",
   "execution_count": null,
   "metadata": {
    "_cell_guid": "f154bab9-833a-4b24-a883-aa8264b4f494",
    "_uuid": "4775b0c9-080e-4761-9b73-647c354d4e65",
    "collapsed": false,
    "execution": {
     "iopub.status.busy": "2025-10-24T19:00:31.603930Z",
     "iopub.status.idle": "2025-10-24T19:00:31.604138Z",
     "shell.execute_reply": "2025-10-24T19:00:31.604037Z",
     "shell.execute_reply.started": "2025-10-24T19:00:31.604028Z"
    },
    "jupyter": {
     "outputs_hidden": false
    },
    "trusted": true
   },
   "outputs": [],
   "source": [
    "# Model Architecture\n",
    "model = Sequential([\n",
    "    Input(shape=(X_train.shape[1],)),\n",
    "    layers.Dense(128, activation='relu'),\n",
    "    layers.Dense(64, activation='relu'),\n",
    "    layers.Dense(y_train.shape[1], activation='softmax')\n",
    "])\n",
    "\n",
    "model.compile(\n",
    "    optimizer='adam',\n",
    "    loss='categorical_crossentropy',\n",
    "    metrics=['accuracy', Precision(name='precision'), Recall(name='recall')]\n",
    ")\n",
    "\n",
    "model.summary()"
   ]
  },
  {
   "cell_type": "code",
   "execution_count": null,
   "metadata": {
    "_cell_guid": "a1906014-a34a-43f7-8afc-f6cb034de304",
    "_uuid": "d137aade-5416-43d9-9c3d-9eb8c2d4d7df",
    "collapsed": false,
    "execution": {
     "iopub.status.busy": "2025-10-24T19:00:31.605219Z",
     "iopub.status.idle": "2025-10-24T19:00:31.605505Z",
     "shell.execute_reply": "2025-10-24T19:00:31.605351Z",
     "shell.execute_reply.started": "2025-10-24T19:00:31.605340Z"
    },
    "jupyter": {
     "outputs_hidden": false
    },
    "trusted": true
   },
   "outputs": [],
   "source": [
    "# Model Training\n",
    "early_stop = EarlyStopping(monitor='val_accuracy', patience=3, restore_best_weights=True)\n",
    "\n",
    "history = model.fit(\n",
    "    X_train, y_train,\n",
    "    epochs=50,\n",
    "    batch_size=32,\n",
    "    validation_split=0.2,\n",
    "    verbose=1,\n",
    "    callbacks=[early_stop]\n",
    ")"
   ]
  },
  {
   "cell_type": "code",
   "execution_count": null,
   "metadata": {
    "execution": {
     "iopub.status.busy": "2025-10-24T19:00:31.606555Z",
     "iopub.status.idle": "2025-10-24T19:00:31.606827Z",
     "shell.execute_reply": "2025-10-24T19:00:31.606690Z",
     "shell.execute_reply.started": "2025-10-24T19:00:31.606679Z"
    },
    "trusted": true
   },
   "outputs": [],
   "source": [
    "# Training Progress Visualization\n",
    "plt.figure(figsize=(12, 4))\n",
    "\n",
    "plt.subplot(1, 2, 1)\n",
    "plt.plot(history.history['accuracy'], label='Train Accuracy')\n",
    "plt.plot(history.history['val_accuracy'], label='Val Accuracy')\n",
    "plt.xlabel('Epoch')\n",
    "plt.ylabel('Accuracy')\n",
    "plt.title('Model Accuracy')\n",
    "plt.legend()\n",
    "\n",
    "plt.subplot(1, 2, 2)\n",
    "plt.plot(history.history['precision'], label='Train Precision')\n",
    "plt.plot(history.history['val_precision'], label='Val Precision')\n",
    "plt.plot(history.history['recall'], label='Train Recall')\n",
    "plt.plot(history.history['val_recall'], label='Val Recall')\n",
    "plt.xlabel('Epoch')\n",
    "plt.ylabel('Score')\n",
    "plt.title('Precision & Recall')\n",
    "plt.legend()\n",
    "\n",
    "plt.tight_layout()\n",
    "plt.show()"
   ]
  },
  {
   "cell_type": "code",
   "execution_count": null,
   "metadata": {
    "execution": {
     "iopub.status.busy": "2025-10-24T19:00:31.607584Z",
     "iopub.status.idle": "2025-10-24T19:00:31.607843Z",
     "shell.execute_reply": "2025-10-24T19:00:31.607718Z",
     "shell.execute_reply.started": "2025-10-24T19:00:31.607707Z"
    },
    "trusted": true
   },
   "outputs": [],
   "source": [
    "# Model Evaluation\n",
    "from sklearn.metrics import f1_score\n",
    "test_loss, test_accuracy, test_precision, test_recall = model.evaluate(X_test, y_test, verbose=0)\n",
    "\n",
    "print(\"Test Results:\")\n",
    "print(f\"Loss: {test_loss:.4f}\")\n",
    "print(f\"Accuracy: {test_accuracy:.4f}\")\n",
    "print(f\"Precision: {test_precision:.4f}\")\n",
    "print(f\"Recall: {test_recall:.4f}\")\n",
    "\n",
    "# Predictions\n",
    "y_pred = model.predict(X_test, verbose=0)\n",
    "y_pred_classes = np.argmax(y_pred, axis=1)\n",
    "y_true_classes = np.argmax(y_test, axis=1)\n",
    "\n",
    "# F1 Scores\n",
    "f1_macro = f1_score(y_true_classes, y_pred_classes, average='macro')\n",
    "f1_weighted = f1_score(y_true_classes, y_pred_classes, average='weighted')\n",
    "\n",
    "print(f\"\\nF1 Scores:\")\n",
    "print(f\"Macro: {f1_macro:.4f}\")\n",
    "print(f\"Weighted: {f1_weighted:.4f}\")"
   ]
  },
  {
   "cell_type": "code",
   "execution_count": null,
   "metadata": {
    "execution": {
     "iopub.status.busy": "2025-10-24T19:00:31.609155Z",
     "iopub.status.idle": "2025-10-24T19:00:31.609433Z",
     "shell.execute_reply": "2025-10-24T19:00:31.609289Z",
     "shell.execute_reply.started": "2025-10-24T19:00:31.609279Z"
    },
    "trusted": true
   },
   "outputs": [],
   "source": [
    "# Confusion Matrix and Classification Report\n",
    "from sklearn.metrics import confusion_matrix, classification_report\n",
    "import seaborn as sns\n",
    "import matplotlib.pyplot as plt\n",
    "\n",
    "# Compute confusion matrix\n",
    "cm = confusion_matrix(y_true_classes, y_pred_classes)\n",
    "\n",
    "# Plot Confusion Matrix\n",
    "plt.figure(figsize=(8, 6))\n",
    "sns.heatmap(cm, annot=True, fmt='d', cmap='Blues',\n",
    "            xticklabels=label_encoder.classes_,\n",
    "            yticklabels=label_encoder.classes_,\n",
    "            cbar=False,\n",
    "            annot_kws={\"size\": 12})\n",
    "plt.title('Confusion Matrix', fontsize=14, pad=15)\n",
    "plt.xlabel('Predicted', fontsize=12, labelpad=10)\n",
    "plt.ylabel('Actual', fontsize=12, labelpad=10)\n",
    "plt.xticks(rotation=45, ha='right')\n",
    "plt.yticks(rotation=0)\n",
    "plt.tight_layout()\n",
    "plt.show()\n",
    "\n",
    "# Print Detailed Classification Report below\n",
    "print(\"Detailed Classification Report:\\n\")\n",
    "print(classification_report(\n",
    "    y_true_classes, \n",
    "    y_pred_classes, \n",
    "    target_names=label_encoder.classes_, \n",
    "    digits=3\n",
    "))\n"
   ]
  },
  {
   "cell_type": "markdown",
   "metadata": {
    "_cell_guid": "7cea1fa1-32e6-4049-899f-43fdde1c5fae",
    "_uuid": "404652cc-c2c9-4dd0-b575-54180c206a72",
    "collapsed": false,
    "jupyter": {
     "outputs_hidden": false
    },
    "trusted": true
   },
   "source": [
    "# Model Explainability"
   ]
  },
  {
   "cell_type": "code",
   "execution_count": null,
   "metadata": {
    "_cell_guid": "a09edba3-64c5-4f7a-9efc-5f7f625c3cc7",
    "_uuid": "f7570f5c-9b1e-4cf6-9609-67d3fd409bee",
    "collapsed": false,
    "execution": {
     "iopub.status.busy": "2025-10-24T19:00:31.610378Z",
     "iopub.status.idle": "2025-10-24T19:00:31.610611Z",
     "shell.execute_reply": "2025-10-24T19:00:31.610512Z",
     "shell.execute_reply.started": "2025-10-24T19:00:31.610504Z"
    },
    "jupyter": {
     "outputs_hidden": false
    },
    "trusted": true
   },
   "outputs": [],
   "source": [
    "import shap\n",
    "shap.initjs()\n",
    "\n",
    "import lime\n",
    "from lime.lime_tabular import LimeTabularExplainer"
   ]
  },
  {
   "cell_type": "code",
   "execution_count": null,
   "metadata": {
    "_cell_guid": "c09d99ff-96eb-4df0-be69-5c0d974c0a26",
    "_uuid": "734486e3-0dc8-4608-8579-249db5d5a9cd",
    "collapsed": false,
    "execution": {
     "iopub.status.busy": "2025-10-24T19:00:31.611527Z",
     "iopub.status.idle": "2025-10-24T19:00:31.611724Z",
     "shell.execute_reply": "2025-10-24T19:00:31.611630Z",
     "shell.execute_reply.started": "2025-10-24T19:00:31.611620Z"
    },
    "jupyter": {
     "outputs_hidden": false
    },
    "trusted": true
   },
   "outputs": [],
   "source": [
    "def shapley_explainer(input_data, model, baseline_data = [], sample_count = 100):\n",
    "    if baseline_data is None or len(baseline_data) == 0:\n",
    "        explainer = shap.Explainer(model)\n",
    "        return explainer(input_data)\n",
    "    \n",
    "    background = shap.sample(baseline_data, sample_count, random_state=42)\n",
    "    explainer = shap.Explainer(model, background)\n",
    "    return explainer(input_data)"
   ]
  },
  {
   "cell_type": "code",
   "execution_count": null,
   "metadata": {
    "execution": {
     "iopub.status.busy": "2025-10-24T19:00:31.612365Z",
     "iopub.status.idle": "2025-10-24T19:00:31.612595Z",
     "shell.execute_reply": "2025-10-24T19:00:31.612502Z",
     "shell.execute_reply.started": "2025-10-24T19:00:31.612491Z"
    },
    "trusted": true
   },
   "outputs": [],
   "source": [
    "shap_values = shapley_explainer(X_test[:100], model, X_train)"
   ]
  },
  {
   "cell_type": "markdown",
   "metadata": {
    "_cell_guid": "1ca2b647-90bc-45fc-ac96-68b9d62a409d",
    "_uuid": "fb59e186-48d6-4577-9c46-e1681355b40c",
    "collapsed": false,
    "jupyter": {
     "outputs_hidden": false
    },
    "trusted": true
   },
   "source": [
    "\n",
    "# Absolute Mean SHAP\n",
    "This plot shows the contribution of each feature globally and ranks them"
   ]
  },
  {
   "cell_type": "code",
   "execution_count": null,
   "metadata": {
    "_cell_guid": "c9be2800-184b-4872-a79f-04de5ac190bd",
    "_uuid": "ad47c0eb-42a1-454e-a68f-6fdffe30380e",
    "collapsed": false,
    "execution": {
     "iopub.status.busy": "2025-10-24T19:00:31.614089Z",
     "iopub.status.idle": "2025-10-24T19:00:31.614348Z",
     "shell.execute_reply": "2025-10-24T19:00:31.614226Z",
     "shell.execute_reply.started": "2025-10-24T19:00:31.614215Z"
    },
    "jupyter": {
     "outputs_hidden": false
    },
    "trusted": true
   },
   "outputs": [],
   "source": [
    "class_names = label_encoder.classes_\n",
    "print(\"Classes:\", class_names)\n",
    "\n",
    "for class_idx in range(11):\n",
    "    # Extract SHAP values for this specific class\n",
    "    shap_values_class = shap_values[:, :, class_idx]\n",
    "    \n",
    "    # Create bar plot for this class\n",
    "    fig, ax = plt.subplots(figsize=(16, 6))  # new figure and axis\n",
    "    shap.plots.bar(shap_values_class, show=False)\n",
    "    ax.set_title(f'{class_names[class_idx]}', fontsize=12, fontweight='bold')\n",
    "    plt.tight_layout()\n",
    "    plt.show()"
   ]
  },
  {
   "cell_type": "markdown",
   "metadata": {
    "_cell_guid": "21050f8c-9191-4912-bf34-5daf0d6f6539",
    "_uuid": "8d69e70b-6816-414b-af5a-a2a2a3aacbd8",
    "collapsed": false,
    "jupyter": {
     "outputs_hidden": false
    },
    "trusted": true
   },
   "source": [
    "\n",
    "# Waterfall Plot\n",
    "This plot shows the contribution of each feature, moving it from the baseline value, to the prediction value.\n",
    "\n",
    "# Force Plot\n",
    "This is a similar perspective, in a different format\n",
    "from IPython.display import display"
   ]
  },
  {
   "cell_type": "code",
   "execution_count": null,
   "metadata": {
    "_cell_guid": "52f7fd44-370d-4d13-92b6-f50d1b19dd3b",
    "_uuid": "8c5baee3-bacf-4bfc-ae71-a636fd5d46a5",
    "collapsed": false,
    "execution": {
     "iopub.status.busy": "2025-10-24T19:00:31.614985Z",
     "iopub.status.idle": "2025-10-24T19:00:31.615227Z",
     "shell.execute_reply": "2025-10-24T19:00:31.615112Z",
     "shell.execute_reply.started": "2025-10-24T19:00:31.615100Z"
    },
    "jupyter": {
     "outputs_hidden": false
    },
    "trusted": true
   },
   "outputs": [],
   "source": [
    "observation = 0\n",
    "\n",
    "# plt.rcParams['figure.figsize'] = (12, 6)  # default width/height for new figures\n",
    "\n",
    "\n",
    "for class_idx in range(11):\n",
    "    # Extract SHAP values for this specific class and observation\n",
    "    shap_values_class_observation = shap_values[observation, :, class_idx]\n",
    "\n",
    "    shap.plots.waterfall(shap_values_class_observation, max_display=5, show=False)\n",
    "\n",
    "    fig = plt.gcf()   # get the current figure\n",
    "    ax = plt.gca()    # get the current axes\n",
    "\n",
    "    ax.set_title(f'{class_names[class_idx]}', fontsize=12, fontweight='bold')\n",
    "    ax.set_xlabel(\"Feature contribution to prediction\")\n",
    "    fig.suptitle(\"SHAP Waterfall Explanation\", fontsize=16, fontweight=\"bold\", y=1.03)\n",
    "    plt.gcf().set_size_inches(16, 6)\n",
    "\n",
    "    plt.tight_layout()\n",
    "    plt.show()\n",
    "\n",
    "    display(shap.plots.force(shap_values_class_observation))\n"
   ]
  },
  {
   "cell_type": "markdown",
   "metadata": {},
   "source": [
    "# LIME\n",
    "Using LIME to make local explanations for the NN classifier"
   ]
  },
  {
   "cell_type": "code",
   "execution_count": null,
   "metadata": {
    "_cell_guid": "85024a4d-c6d5-4664-aa5b-96198e424b0f",
    "_uuid": "be8cc970-d2cd-4910-b199-599e78cf2367",
    "collapsed": false,
    "execution": {
     "iopub.status.busy": "2025-10-24T19:00:31.616577Z",
     "iopub.status.idle": "2025-10-24T19:00:31.616905Z",
     "shell.execute_reply": "2025-10-24T19:00:31.616772Z",
     "shell.execute_reply.started": "2025-10-24T19:00:31.616760Z"
    },
    "jupyter": {
     "outputs_hidden": false
    },
    "trusted": true
   },
   "outputs": [],
   "source": [
    "explainer_lime = LimeTabularExplainer(\n",
    "    X_train.values,\n",
    "    feature_names=X.columns,\n",
    "    class_names=class_names,\n",
    "    mode=\"classification\",\n",
    "    discretize_continuous=True\n",
    "    )\n",
    "\n",
    "exp = explainer_lime.explain_instance(\n",
    "    X_test.values[i],\n",
    "    predict_fn= lambda x: model.predict(x, verbose=0),\n",
    "    labels=range(len(class_names)),\n",
    "    num_features=5    \n",
    ")\n",
    "\n",
    "from IPython.display import HTML\n",
    "\n",
    "for class_idx, class_name in enumerate(class_names):\n",
    "    html = exp.as_html(labels=[class_idx])  # generate figure for this class\n",
    "    display(HTML(html))"
   ]
  },
  {
   "cell_type": "code",
   "execution_count": null,
   "metadata": {},
   "outputs": [],
   "source": [
    "df.info()"
   ]
  },
  {
   "cell_type": "markdown",
   "metadata": {},
   "source": [
    "# Inference Function\n",
    "This function takes the same raw input features which were preprocessed for the model to train over, and uses the model to make a prediction."
   ]
  },
  {
   "cell_type": "code",
   "execution_count": null,
   "metadata": {
    "execution": {
     "iopub.status.busy": "2025-10-24T19:00:31.617814Z",
     "iopub.status.idle": "2025-10-24T19:00:31.618035Z",
     "shell.execute_reply": "2025-10-24T19:00:31.617946Z",
     "shell.execute_reply.started": "2025-10-24T19:00:31.617937Z"
    },
    "trusted": true
   },
   "outputs": [],
   "source": [
    "schema = {\n",
    "    'review_id': 'int64',\n",
    "    'user_id': 'int64',\n",
    "    'hotel_id': 'int64',\n",
    "    'review_date': 'object',\n",
    "    'score_overall': 'float64',\n",
    "    'score_cleanliness': 'float64',\n",
    "    'score_comfort': 'float64',\n",
    "    'score_facilities': 'float64',\n",
    "    'score_location': 'float64',\n",
    "    'score_staff': 'float64',\n",
    "    'score_value_for_money': 'float64',\n",
    "    'review_text': 'object',\n",
    "    'hotel_id': 'int64',\n",
    "    'hotel_name': 'object',\n",
    "    'city': 'object',\n",
    "    'country': 'object',\n",
    "    'star_rating': 'int64',\n",
    "    'lat': 'float64',\n",
    "    'lon': 'float64',\n",
    "    'cleanliness_base': 'float64',\n",
    "    'comfort_base': 'float64',\n",
    "    'facilities_base': 'float64',\n",
    "    'location_base': 'float64',\n",
    "    'staff_base': 'float64',\n",
    "    'value_for_money_base': 'float64',   \n",
    "    'user_id': 'int64',\n",
    "    'user_gender': 'object',\n",
    "    'country': 'object',\n",
    "    'age_group': 'int64',\n",
    "    'traveller_type': 'object',\n",
    "    'join_date': 'object'\n",
    "}\n",
    "\n",
    "def inference(user, hotel, review):\n",
    "\n",
    "    global df\n",
    "    \n",
    "    inputs = [user, hotel, review]\n",
    "    \n",
    "    for i, x in enumerate(inputs):\n",
    "        # If it's a dictionary, convert to Series\n",
    "        if isinstance(x, dict):\n",
    "            inputs[i] = pd.Series(x)\n",
    "        # If it's not a Series (e.g., list, numpy array), raise an error\n",
    "        elif not isinstance(x, pd.Series):\n",
    "            raise TypeError(f\"Input {i} must be a dict or pandas Series, not {type(x)}\")\n",
    "    \n",
    "    user, hotel, review = inputs\n",
    "    \n",
    "    #convert to dataframes from Series\n",
    "    user_df = user.to_frame().T\n",
    "    hotel_df = hotel.to_frame().T\n",
    "    review_df = review.to_frame().T\n",
    "    \n",
    "    tmp_df = pd.merge(hotel_df, review_df, how='cross')\n",
    "    new_df = pd.merge(tmp_df, user_df, how='cross')\n",
    "    \n",
    "    # rename columns\n",
    "    new_df.rename(columns={'country_x': 'hotel_country', 'country_y': 'user_country'}, inplace=True)\n",
    "    \n",
    "    # convert to datetime\n",
    "    new_df['review_date'] = pd.to_datetime(new_df['review_date'])\n",
    "    new_df['join_date'] = pd.to_datetime(new_df['join_date'])\n",
    "    \n",
    "    age_mapping = {'18-24': 0, '25-34': 1, '35-44': 2, '45-54': 3, '55+': 4}\n",
    "    new_df['age_group'] = new_df['age_group'].map(age_mapping)\n",
    "    \n",
    "    new_df = new_df.reindex(columns=df.columns, fill_value=DEFAULT_VALUES)\n",
    "    intersection_schema = {k: v for k, v in schema.items() if k in new_df}\n",
    "    new_df = new_df.astype(intersection_schema, errors='raise')\n",
    "    \n",
    "    categorical_cols = new_df.select_dtypes(include=['object']).columns.tolist()\n",
    "    \n",
    "            # Remove 'country_group' if it exists\n",
    "    if 'country_group' in categorical_cols:\n",
    "        categorical_cols.remove('country_group')\n",
    "\n",
    "    \n",
    "    # Transform and replace the categorical columns in df\n",
    "    ohe_features = ohe_fit.transform(new_df[categorical_cols])\n",
    "    ohe_feature_names = ohe_fit.get_feature_names_out(categorical_cols)\n",
    "    new_df = new_df.drop(columns=categorical_cols)\n",
    "    new_df[ohe_feature_names] = ohe_features\n",
    "    \n",
    "    new_df = new_df[features]\n",
    "    new_df.info()\n",
    "    \n",
    "    observation_2d = new_df.iloc[0].values.reshape((1, -1))\n",
    "\n",
    "    y_pred = model.predict(observation_2d, verbose=0).flatten()\n",
    "    \n",
    "    # Explain Prediction\n",
    "    predicted_class = label_encoder.classes_[y_pred.argmax()]\n",
    "    \n",
    "    print(f\"The predicted class is: {predicted_class}\")\n",
    "    print(f\"The probability distribution for the class predictions are:\")\n",
    "\n",
    "    probabilities = y_pred\n",
    "    class_names = label_encoder.classes_\n",
    "\n",
    "    plt.figure(figsize=(12, 5))  # wider figure\n",
    "    plt.bar(class_names, probabilities, color='skyblue')\n",
    "    plt.xlabel('Class')\n",
    "    plt.ylabel('Predicted Probability')\n",
    "    plt.title('Class Prediction Probability Distribution')\n",
    "    plt.ylim(0, 1)\n",
    "    plt.xticks(rotation=45, ha='right')  # rotate x-ticks 45 degrees\n",
    "    plt.show()\n",
    "    \n",
    "    print(\"LIME Explanation: Feature contributions for the top 3 predicted classes are shown below.\")\n",
    "    exp = explainer_lime.explain_instance(\n",
    "        new_df.iloc[0].values,\n",
    "        predict_fn=lambda x: model.predict(x, verbose=0),\n",
    "        top_labels=3,   # Show explanations for top 3 predicted classes\n",
    "        num_features=5\n",
    "    )\n",
    "\n",
    "    for idx, class_idx in enumerate(exp.top_labels):\n",
    "        print(f\"\\nLIME Explanation for class: {label_encoder.classes_[class_idx]}\")\n",
    "        html = exp.as_html(labels=[class_idx])  # generate figure for this class\n",
    "        display(HTML(html))\n",
    "    \n",
    "    return y_pred"
   ]
  },
  {
   "cell_type": "code",
   "execution_count": null,
   "metadata": {
    "execution": {
     "iopub.status.busy": "2025-10-24T19:00:31.619290Z",
     "iopub.status.idle": "2025-10-24T19:00:31.619512Z",
     "shell.execute_reply": "2025-10-24T19:00:31.619395Z",
     "shell.execute_reply.started": "2025-10-24T19:00:31.619388Z"
    },
    "trusted": true
   },
   "outputs": [],
   "source": [
    "# Testing inference Function with two inputs\n",
    "\n",
    "user = {'user_id': 1600,\n",
    "  'user_gender': 'Female',\n",
    "  'country': 'New Zealand',\n",
    "  'age_group': '25-34',\n",
    "  'traveller_type': 'Solo',\n",
    "  'join_date': '2021-03-21'\n",
    "}\n",
    "\n",
    "review = {'review_id': 1,\n",
    " 'user_id': 1600,\n",
    " 'hotel_id': 1,\n",
    " 'review_date': '2022-10-07',\n",
    " 'score_overall': 8.7,\n",
    " 'score_cleanliness': 8.6,\n",
    " 'score_comfort': 8.7,\n",
    " 'score_facilities': 8.5,\n",
    " 'score_location': 9.0,\n",
    " 'score_staff': 8.8,\n",
    " 'score_value_for_money': 8.7,\n",
    " 'review_text': 'Practice reduce young our because machine. Recent forget phone fast stuff adult.'\n",
    " }\n",
    "\n",
    "hotel = {\n",
    " 'hotel_id': 1,\n",
    " 'hotel_name': 'The Azure Tower',\n",
    " 'city': 'New York',\n",
    " 'country': 'United States',\n",
    " 'star_rating': 5,\n",
    " 'lat': 40.758,\n",
    " 'lon': -73.9855,\n",
    " 'cleanliness_base': 9.1,\n",
    " 'comfort_base': 8.8,\n",
    " 'facilities_base': 8.9,\n",
    " 'location_base': 9.5,\n",
    " 'staff_base': 8.6,\n",
    " 'value_for_money_base': 8.0\n",
    "}\n",
    "\n",
    "inference(user=user, hotel=hotel, review=review)"
   ]
  }
 ],
 "metadata": {
  "kaggle": {
   "accelerator": "none",
   "dataSources": [
    {
     "datasetId": 8034264,
     "sourceId": 12711806,
     "sourceType": "datasetVersion"
    }
   ],
   "dockerImageVersionId": 31153,
   "isGpuEnabled": false,
   "isInternetEnabled": true,
   "language": "python",
   "sourceType": "notebook"
  },
  "kernelspec": {
   "display_name": ".venv",
   "language": "python",
   "name": "python3"
  },
  "language_info": {
   "codemirror_mode": {
    "name": "ipython",
    "version": 3
   },
   "file_extension": ".py",
   "mimetype": "text/x-python",
   "name": "python",
   "nbconvert_exporter": "python",
   "pygments_lexer": "ipython3",
   "version": "3.13.3"
  }
 },
 "nbformat": 4,
 "nbformat_minor": 4
}
